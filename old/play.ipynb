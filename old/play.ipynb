{
 "cells": [
  {
   "cell_type": "code",
   "execution_count": 1,
   "metadata": {},
   "outputs": [],
   "source": [
    "from helpers import *"
   ]
  },
  {
   "cell_type": "code",
   "execution_count": 2,
   "metadata": {},
   "outputs": [],
   "source": [
    "network_file_path=\"/Users/armaan/Desktop/Fall-2023 Classes/Sable-Artificial-Intelligence/NN/grades/NNGRADES.txt\"\n",
    "train_file_path=\"/Users/armaan/Desktop/Fall-2023 Classes/Sable-Artificial-Intelligence/NN/grades/GRADES_train.txt\"\n",
    "test_file_path=\"/Users/armaan/Desktop/Fall-2023 Classes/Sable-Artificial-Intelligence/NN/grades/GRADES_test.txt\""
   ]
  },
  {
   "cell_type": "code",
   "execution_count": 3,
   "metadata": {},
   "outputs": [],
   "source": [
    "network, _, _, _ = load_network_from_file(network_file_path)"
   ]
  },
  {
   "cell_type": "code",
   "execution_count": 4,
   "metadata": {},
   "outputs": [
    {
     "data": {
      "text/plain": [
       "{'hidden_layer': [{'weights': [0.058, 0.551, 0.609, 0.849, 0.624, 0.122]},\n",
       "  {'weights': [0.674, 0.286, 0.924, 0.389, 0.036, 0.562]},\n",
       "  {'weights': [0.98, 0.994, 0.588, 0.444, 0.902, 0.35]},\n",
       "  {'weights': [0.886, 0.923, 0.268, 0.991, 0.616, 0.114]},\n",
       "  {'weights': [0.686, 0.802, 0.054, 0.852, 0.039, 0.844]},\n",
       "  {'weights': [0.507, 0.369, 0.063, 0.294, 0.258, 0.694]},\n",
       "  {'weights': [0.17, 0.331, 0.782, 0.128, 0.368, 0.144]},\n",
       "  {'weights': [0.469, 0.083, 0.904, 0.464, 0.885, 0.345]},\n",
       "  {'weights': [0.801, 0.88, 0.804, 0.72, 0.792, 0.203]},\n",
       "  {'weights': [0.189, 0.69, 0.679, 0.512, 0.661, 0.017]}],\n",
       " 'output_layer': [{'weights': [0.792,\n",
       "    0.459,\n",
       "    0.339,\n",
       "    0.742,\n",
       "    0.731,\n",
       "    0.316,\n",
       "    0.519,\n",
       "    0.255,\n",
       "    0.83,\n",
       "    0.352,\n",
       "    0.224]},\n",
       "  {'weights': [0.625,\n",
       "    0.972,\n",
       "    0.873,\n",
       "    0.163,\n",
       "    0.157,\n",
       "    0.179,\n",
       "    0.757,\n",
       "    0.937,\n",
       "    0.845,\n",
       "    0.526,\n",
       "    0.361]},\n",
       "  {'weights': [0.022,\n",
       "    0.561,\n",
       "    0.895,\n",
       "    0.959,\n",
       "    0.2,\n",
       "    0.039,\n",
       "    0.986,\n",
       "    0.71,\n",
       "    0.964,\n",
       "    0.157,\n",
       "    0.371]},\n",
       "  {'weights': [0.86,\n",
       "    0.09,\n",
       "    0.274,\n",
       "    0.584,\n",
       "    0.06,\n",
       "    0.155,\n",
       "    0.108,\n",
       "    0.814,\n",
       "    0.533,\n",
       "    0.369,\n",
       "    0.52]}]}"
      ]
     },
     "execution_count": 4,
     "metadata": {},
     "output_type": "execute_result"
    }
   ],
   "source": [
    "network"
   ]
  },
  {
   "cell_type": "code",
   "execution_count": 5,
   "metadata": {},
   "outputs": [],
   "source": [
    "num_samples, num_features, n_outputs, train_data = read_configuration_and_data_file(\n",
    "    train_file_path\n",
    ")\n",
    "_, _, _, test_data = read_configuration_and_data_file(test_file_path)"
   ]
  },
  {
   "cell_type": "code",
   "execution_count": 6,
   "metadata": {},
   "outputs": [],
   "source": [
    "from sable_nn import train_network, predict\n",
    "\n",
    "trained_network = train_network(network, train_data, 0.05, 100, n_outputs)"
   ]
  },
  {
   "cell_type": "code",
   "execution_count": 8,
   "metadata": {},
   "outputs": [
    {
     "data": {
      "text/plain": [
       "{'hidden_layer': [{'weights': [1.0263982902703106,\n",
       "    0.49389566829291237,\n",
       "    0.4858817913240141,\n",
       "    0.8334567360343077,\n",
       "    0.6060519574755461,\n",
       "    -0.05994918370560274],\n",
       "   'output': 0.6300356347753925,\n",
       "   'delta': 0.02746547078659272},\n",
       "  {'weights': [5.791459555144998,\n",
       "    1.3334272935399358,\n",
       "    1.9547507305198955,\n",
       "    1.8045459334641119,\n",
       "    0.8849754065433311,\n",
       "    1.5634823676316354],\n",
       "   'output': 0.39523107432428345,\n",
       "   'delta': 0.12251785789620276},\n",
       "  {'weights': [6.124132547287679,\n",
       "    1.8613918101393276,\n",
       "    1.5410960826883682,\n",
       "    1.6159686426175044,\n",
       "    1.5572499045840962,\n",
       "    1.3914042372594775],\n",
       "   'output': 0.37977414112917496,\n",
       "   'delta': 0.11355512744156207},\n",
       "  {'weights': [0.03694655148516287,\n",
       "    1.3486388361769486,\n",
       "    0.7037284178232275,\n",
       "    1.3731391843237915,\n",
       "    1.0834496730781338,\n",
       "    0.5581506596500897],\n",
       "   'output': 0.9712050823993013,\n",
       "   'delta': -0.00245826901976315},\n",
       "  {'weights': [-0.668680972785355,\n",
       "    1.4365289922839806,\n",
       "    0.715847493452641,\n",
       "    1.457594944833878,\n",
       "    0.7150406113815412,\n",
       "    1.5017263112706507],\n",
       "   'output': 0.9929695760265774,\n",
       "   'delta': -0.0014490700516607434},\n",
       "  {'weights': [4.560155186596946,\n",
       "    1.2630205402292711,\n",
       "    0.9377719864004255,\n",
       "    1.4168896617552347,\n",
       "    0.9850651293220675,\n",
       "    1.5008588842700101],\n",
       "   'output': 0.45709143536902436,\n",
       "   'delta': 0.0941275808980937},\n",
       "  {'weights': [3.757651042819174,\n",
       "    0.91832873697236,\n",
       "    1.427736992392038,\n",
       "    1.009700628879132,\n",
       "    0.8781479150723175,\n",
       "    0.746769069802971],\n",
       "   'output': 0.4279959756754982,\n",
       "   'delta': 0.07606213109282031},\n",
       "  {'weights': [5.628830908961741,\n",
       "    1.0084678050645268,\n",
       "    1.8239178412378936,\n",
       "    1.6953613354423211,\n",
       "    1.6323200723711686,\n",
       "    1.2690536252629605],\n",
       "   'output': 0.37145951278074596,\n",
       "   'delta': 0.11581907130546959},\n",
       "  {'weights': [0.9216266402173761,\n",
       "    0.8839918454836458,\n",
       "    0.7955906490388139,\n",
       "    0.7368481515267354,\n",
       "    0.8486622553711476,\n",
       "    0.18598024855250164],\n",
       "   'output': 0.8092128328194436,\n",
       "   'delta': 0.008858158828523692},\n",
       "  {'weights': [-0.7341832845670925,\n",
       "    1.0622124594528188,\n",
       "    1.063001174213088,\n",
       "    0.8616884691552693,\n",
       "    1.0563482516054936,\n",
       "    0.4150391811424348],\n",
       "   'output': 0.9784646978380583,\n",
       "   'delta': -0.003093535459080578}],\n",
       " 'output_layer': [{'weights': [1.7905053926665884,\n",
       "    0.5124907499499188,\n",
       "    1.6459063273371504,\n",
       "    2.208139613262765,\n",
       "    0.3990085083816345,\n",
       "    -0.31025713381675946,\n",
       "    1.5746718889465146,\n",
       "    1.049919738469287,\n",
       "    2.1457213167329545,\n",
       "    0.46136807839300764,\n",
       "    -0.28164831208756264],\n",
       "   'output': 0.8967958132892532,\n",
       "   'delta': 0.009551865612776987},\n",
       "  {'weights': [4.115859514648493,\n",
       "    0.8535374604902766,\n",
       "    3.8856430268839426,\n",
       "    3.6287883629328426,\n",
       "    -0.7311428251174737,\n",
       "    -1.6145643667522174,\n",
       "    2.8529624515593404,\n",
       "    2.340940164875924,\n",
       "    3.714662624165298,\n",
       "    0.3852415154544815,\n",
       "    -1.1365298343279158],\n",
       "   'output': 0.4674753038808418,\n",
       "   'delta': 0.13256783966066002},\n",
       "  {'weights': [3.8577257636119606,\n",
       "    -0.010384018429779528,\n",
       "    3.744832660516361,\n",
       "    4.101015812444556,\n",
       "    -1.179586980959124,\n",
       "    -2.1113677806138025,\n",
       "    2.8817347562498092,\n",
       "    1.8522517171786028,\n",
       "    3.4262762585025683,\n",
       "    -0.5433987105461983,\n",
       "    -1.5311784654069531],\n",
       "   'output': 0.06768028372829442,\n",
       "   'delta': -0.004270603089771594},\n",
       "  {'weights': [3.399470558228992,\n",
       "    -0.3726082700531285,\n",
       "    2.3966990645801247,\n",
       "    2.7663626111017634,\n",
       "    -1.2937809006316165,\n",
       "    -1.6160434737972873,\n",
       "    1.5496105040584376,\n",
       "    1.7301546259262843,\n",
       "    2.402338575574807,\n",
       "    -0.3675151121712058,\n",
       "    -1.0926602311400746],\n",
       "   'output': 0.0286730534756216,\n",
       "   'delta': -0.0007985706168649012}]}"
      ]
     },
     "execution_count": 8,
     "metadata": {},
     "output_type": "execute_result"
    }
   ],
   "source": [
    "trained_network"
   ]
  },
  {
   "cell_type": "code",
   "execution_count": 9,
   "metadata": {},
   "outputs": [],
   "source": [
    "# Example usage:\n",
    "train_predictions = [predict(trained_network, row, n_outputs) for row in train_data]\n",
    "test_predictions = [predict(trained_network, row, n_outputs) for row in test_data]"
   ]
  },
  {
   "cell_type": "code",
   "execution_count": 11,
   "metadata": {},
   "outputs": [
    {
     "ename": "TypeError",
     "evalue": "can only concatenate list (not \"int\") to list",
     "output_type": "error",
     "traceback": [
      "\u001b[0;31m---------------------------------------------------------------------------\u001b[0m",
      "\u001b[0;31mTypeError\u001b[0m                                 Traceback (most recent call last)",
      "\u001b[1;32m/Users/armaan/Desktop/Fall-2023 Classes/Sable-Artificial-Intelligence/NN/src/play.ipynb Cell 9\u001b[0m line \u001b[0;36m1\n\u001b[0;32m----> <a href='vscode-notebook-cell:/Users/armaan/Desktop/Fall-2023%20Classes/Sable-Artificial-Intelligence/NN/src/play.ipynb#X10sZmlsZQ%3D%3D?line=0'>1</a>\u001b[0m train_evals \u001b[39m=\u001b[39m compute_multiclass_classification_metrics(\n\u001b[1;32m      <a href='vscode-notebook-cell:/Users/armaan/Desktop/Fall-2023%20Classes/Sable-Artificial-Intelligence/NN/src/play.ipynb#X10sZmlsZQ%3D%3D?line=1'>2</a>\u001b[0m     [x[\u001b[39m-\u001b[39;49m\u001b[39m1\u001b[39;49m] \u001b[39mfor\u001b[39;49;00m x \u001b[39min\u001b[39;49;00m train_data], train_predictions\n\u001b[1;32m      <a href='vscode-notebook-cell:/Users/armaan/Desktop/Fall-2023%20Classes/Sable-Artificial-Intelligence/NN/src/play.ipynb#X10sZmlsZQ%3D%3D?line=2'>3</a>\u001b[0m )\n\u001b[1;32m      <a href='vscode-notebook-cell:/Users/armaan/Desktop/Fall-2023%20Classes/Sable-Artificial-Intelligence/NN/src/play.ipynb#X10sZmlsZQ%3D%3D?line=3'>4</a>\u001b[0m test_evals \u001b[39m=\u001b[39m compute_multiclass_classification_metrics(\n\u001b[1;32m      <a href='vscode-notebook-cell:/Users/armaan/Desktop/Fall-2023%20Classes/Sable-Artificial-Intelligence/NN/src/play.ipynb#X10sZmlsZQ%3D%3D?line=4'>5</a>\u001b[0m     [x[\u001b[39m-\u001b[39m\u001b[39m1\u001b[39m] \u001b[39mfor\u001b[39;00m x \u001b[39min\u001b[39;00m test_data], test_predictions\n\u001b[1;32m      <a href='vscode-notebook-cell:/Users/armaan/Desktop/Fall-2023%20Classes/Sable-Artificial-Intelligence/NN/src/play.ipynb#X10sZmlsZQ%3D%3D?line=5'>6</a>\u001b[0m )\n",
      "File \u001b[0;32m~/Desktop/Fall-2023 Classes/Sable-Artificial-Intelligence/NN/src/helpers.py:112\u001b[0m, in \u001b[0;36mcompute_multiclass_classification_metrics\u001b[0;34m(actual, predicted)\u001b[0m\n\u001b[1;32m    110\u001b[0m \u001b[39mif\u001b[39;00m \u001b[39misinstance\u001b[39m(actual[\u001b[39m0\u001b[39m], \u001b[39mint\u001b[39m):\n\u001b[1;32m    111\u001b[0m     actual \u001b[39m=\u001b[39m [[\u001b[39m1\u001b[39m \u001b[39mif\u001b[39;00m i \u001b[39m==\u001b[39m a \u001b[39melse\u001b[39;00m \u001b[39m0\u001b[39m \u001b[39mfor\u001b[39;00m i \u001b[39min\u001b[39;00m \u001b[39mrange\u001b[39m(\u001b[39mmax\u001b[39m(actual) \u001b[39m+\u001b[39m \u001b[39m1\u001b[39m)] \u001b[39mfor\u001b[39;00m a \u001b[39min\u001b[39;00m actual]\n\u001b[0;32m--> 112\u001b[0m     predicted \u001b[39m=\u001b[39m [\n\u001b[1;32m    113\u001b[0m         [\u001b[39m1\u001b[39m \u001b[39mif\u001b[39;00m i \u001b[39m==\u001b[39m p \u001b[39melse\u001b[39;00m \u001b[39m0\u001b[39m \u001b[39mfor\u001b[39;00m i \u001b[39min\u001b[39;00m \u001b[39mrange\u001b[39m(\u001b[39mmax\u001b[39m(predicted) \u001b[39m+\u001b[39m \u001b[39m1\u001b[39m)] \u001b[39mfor\u001b[39;00m p \u001b[39min\u001b[39;00m predicted\n\u001b[1;32m    114\u001b[0m     ]\n\u001b[1;32m    116\u001b[0m n_classes \u001b[39m=\u001b[39m \u001b[39mlen\u001b[39m(actual[\u001b[39m0\u001b[39m])\n\u001b[1;32m    117\u001b[0m class_metrics \u001b[39m=\u001b[39m []\n",
      "File \u001b[0;32m~/Desktop/Fall-2023 Classes/Sable-Artificial-Intelligence/NN/src/helpers.py:113\u001b[0m, in \u001b[0;36m<listcomp>\u001b[0;34m(.0)\u001b[0m\n\u001b[1;32m    110\u001b[0m \u001b[39mif\u001b[39;00m \u001b[39misinstance\u001b[39m(actual[\u001b[39m0\u001b[39m], \u001b[39mint\u001b[39m):\n\u001b[1;32m    111\u001b[0m     actual \u001b[39m=\u001b[39m [[\u001b[39m1\u001b[39m \u001b[39mif\u001b[39;00m i \u001b[39m==\u001b[39m a \u001b[39melse\u001b[39;00m \u001b[39m0\u001b[39m \u001b[39mfor\u001b[39;00m i \u001b[39min\u001b[39;00m \u001b[39mrange\u001b[39m(\u001b[39mmax\u001b[39m(actual) \u001b[39m+\u001b[39m \u001b[39m1\u001b[39m)] \u001b[39mfor\u001b[39;00m a \u001b[39min\u001b[39;00m actual]\n\u001b[1;32m    112\u001b[0m     predicted \u001b[39m=\u001b[39m [\n\u001b[0;32m--> 113\u001b[0m         [\u001b[39m1\u001b[39m \u001b[39mif\u001b[39;00m i \u001b[39m==\u001b[39m p \u001b[39melse\u001b[39;00m \u001b[39m0\u001b[39m \u001b[39mfor\u001b[39;00m i \u001b[39min\u001b[39;00m \u001b[39mrange\u001b[39m(\u001b[39mmax\u001b[39;49m(predicted) \u001b[39m+\u001b[39;49m \u001b[39m1\u001b[39;49m)] \u001b[39mfor\u001b[39;00m p \u001b[39min\u001b[39;00m predicted\n\u001b[1;32m    114\u001b[0m     ]\n\u001b[1;32m    116\u001b[0m n_classes \u001b[39m=\u001b[39m \u001b[39mlen\u001b[39m(actual[\u001b[39m0\u001b[39m])\n\u001b[1;32m    117\u001b[0m class_metrics \u001b[39m=\u001b[39m []\n",
      "\u001b[0;31mTypeError\u001b[0m: can only concatenate list (not \"int\") to list"
     ]
    }
   ],
   "source": [
    "train_evals = compute_multiclass_classification_metrics(\n",
    "    [x[-1] for x in train_data], train_predictions\n",
    ")\n",
    "test_evals = compute_multiclass_classification_metrics(\n",
    "    [x[-1] for x in test_data], test_predictions\n",
    ")"
   ]
  },
  {
   "cell_type": "code",
   "execution_count": 12,
   "metadata": {},
   "outputs": [
    {
     "name": "stdout",
     "output_type": "stream",
     "text": [
      "[1, 1, 1, 1, 1, 1, 1, 1, 1, 1, 1, 1, 1, 1, 1, 1, 1, 1, 1, 1, 1, 1, 0, 1, 1, 1, 1, 1, 1, 1, 1, 1, 1, 1, 1, 1, 1, 1, 1, 1, 1, 1, 1, 1, 1, 1, 1, 1, 1, 1, 1, 1, 1, 1, 1, 1, 1, 1, 1, 1, 1, 1, 1, 1, 1, 1, 1, 1, 1, 1, 1, 1, 0, 1, 1, 1, 1, 1, 1, 1, 1, 1, 1, 1, 1, 1, 1, 1, 1, 1, 1, 1, 1, 1, 1, 1, 1, 1, 1, 1, 1, 1, 1, 1, 1, 1, 1, 1, 1, 1, 1, 1, 1, 1, 1, 1, 1, 1, 1, 1, 1, 1, 1, 1, 1, 1, 1, 1, 1, 1, 1, 1, 1, 1, 1, 1, 1, 1, 1, 1, 1, 1, 1, 1, 1, 1, 1, 1, 1, 1, 1, 1, 1, 1, 1, 1, 1, 1, 1, 1, 1, 1, 1, 1, 1, 1, 1, 1, 1, 1, 1, 1, 1, 1, 1, 1, 1, 1, 1, 1, 1, 1, 1, 1, 1, 1, 1, 1, 1, 1, 1, 1, 1, 1, 1, 1, 1, 1, 1, 1, 1, 1, 1, 1, 1, 1, 1, 1, 1, 1, 1, 1, 1, 1, 1, 1, 1, 1, 1, 1, 1, 1, 1, 1, 1, 1, 1, 1, 1, 1, 1, 0, 1, 1, 1, 1, 1, 1, 1, 1, 1, 1, 1, 1, 1, 1, 1, 1, 1, 1, 1, 1, 1, 1, 1, 1, 1, 1, 1, 1, 1, 1, 1, 1, 1, 1, 1, 1, 1, 1, 1, 1, 1, 1, 1, 1, 1, 1, 1, 1, 1, 1, 1, 1, 1, 1, 1, 1, 1, 1, 1, 1, 1, 1, 1, 1, 1, 1, 1, 1]\n"
     ]
    }
   ],
   "source": [
    "print(train_predictions)"
   ]
  },
  {
   "cell_type": "code",
   "execution_count": 23,
   "metadata": {},
   "outputs": [
    {
     "name": "stdout",
     "output_type": "stream",
     "text": [
      "Test set evaluation metrics:\n",
      "Accuracy: 0.9628252788104089\n",
      "Precision: 0.9542857142857143\n",
      "Recall: 0.9881656804733728\n",
      "F1: 0.9709302325581396\n"
     ]
    }
   ],
   "source": [
    "print(\"Test set evaluation metrics:\")\n",
    "print(f\"Accuracy: {test_evals['accuracy']}\")\n",
    "print(f\"Precision: {test_evals['precision']}\")\n",
    "print(f\"Recall: {test_evals['recall']}\")\n",
    "print(f\"F1: {test_evals['F1']}\")"
   ]
  }
 ],
 "metadata": {
  "kernelspec": {
   "display_name": ".virtualenvs",
   "language": "python",
   "name": "python3"
  },
  "language_info": {
   "codemirror_mode": {
    "name": "ipython",
    "version": 3
   },
   "file_extension": ".py",
   "mimetype": "text/x-python",
   "name": "python",
   "nbconvert_exporter": "python",
   "pygments_lexer": "ipython3",
   "version": "3.10.13"
  }
 },
 "nbformat": 4,
 "nbformat_minor": 2
}
