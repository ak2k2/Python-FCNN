{
 "cells": [
  {
   "cell_type": "code",
   "execution_count": 1,
   "metadata": {},
   "outputs": [],
   "source": [
    "from helpers import *"
   ]
  },
  {
   "cell_type": "code",
   "execution_count": 2,
   "metadata": {},
   "outputs": [],
   "source": [
    "network = load_network_from_file(\n",
    "    \"/Users/armaan/Desktop/Fall-2023 Classes/Sable-Artificial-Intelligence/NN/breast_cancer/NNWDBC.txt\"\n",
    ")"
   ]
  },
  {
   "cell_type": "code",
   "execution_count": 3,
   "metadata": {},
   "outputs": [],
   "source": [
    "num_samples, num_features, n_outputs, train_data = read_configuration_and_data_file(\n",
    "    \"/Users/armaan/Desktop/Fall-2023 Classes/Sable-Artificial-Intelligence/NN/breast_cancer/bcx.train.txt\"\n",
    ")\n",
    "_, _, _, test_data = read_configuration_and_data_file(\n",
    "    \"/Users/armaan/Desktop/Fall-2023 Classes/Sable-Artificial-Intelligence/NN/breast_cancer/bcx.test.txt\"\n",
    ")"
   ]
  },
  {
   "cell_type": "code",
   "execution_count": 4,
   "metadata": {},
   "outputs": [],
   "source": [
    "from sable_nn import train_network, predict\n",
    "\n",
    "trained_network = train_network(network, train_data, 0.1, 100, n_outputs)"
   ]
  },
  {
   "cell_type": "code",
   "execution_count": 15,
   "metadata": {},
   "outputs": [],
   "source": [
    "# Example usage:\n",
    "train_predictions = [predict(trained_network, row) for row in train_data]\n",
    "test_predictions = [predict(trained_network, row) for row in test_data]"
   ]
  },
  {
   "cell_type": "code",
   "execution_count": 16,
   "metadata": {},
   "outputs": [],
   "source": [
    "train_evals = compute_binary_classification_metrics(train_data, train_predictions)\n",
    "test_evals = compute_binary_classification_metrics(test_data, test_predictions)"
   ]
  },
  {
   "cell_type": "code",
   "execution_count": 14,
   "metadata": {},
   "outputs": [
    {
     "name": "stdout",
     "output_type": "stream",
     "text": [
      "Train set evaluation:\n",
      "Accuracy: 0.0\n",
      "Precision: 0\n",
      "Recall: 0\n",
      "F1: 0\n"
     ]
    }
   ],
   "source": [
    "print(\"Train set evaluation:\")\n",
    "print(f\"Accuracy: {train_evals['accuracy']}\")\n",
    "print(f\"Precision: {train_evals['precision']}\")\n",
    "print(f\"Recall: {train_evals['recall']}\")\n",
    "print(f\"F1: {train_evals['F1']}\")"
   ]
  },
  {
   "cell_type": "code",
   "execution_count": 9,
   "metadata": {},
   "outputs": [
    {
     "name": "stdout",
     "output_type": "stream",
     "text": [
      "Test set evaluation metrics:\n",
      "Accuracy: 0.0\n",
      "Precision: 0\n",
      "Recall: 0\n",
      "F1: 0\n"
     ]
    }
   ],
   "source": [
    "print(\"Test set evaluation metrics:\")\n",
    "print(f\"Accuracy: {test_evals['accuracy']}\")\n",
    "print(f\"Precision: {test_evals['precision']}\")\n",
    "print(f\"Recall: {test_evals['recall']}\")\n",
    "print(f\"F1: {test_evals['F1']}\")"
   ]
  },
  {
   "cell_type": "code",
   "execution_count": 17,
   "metadata": {},
   "outputs": [],
   "source": [
    "actual = [0, 1, 0, 0, 1, 1, 1, 0, 1]\n",
    "predicted = [1, 1, 0, 0, 0, 1, 1, 0, 1]\n",
    "metrics = compute_binary_classification_metrics(actual, predicted)\n",
    "print(metrics)"
   ]
  },
  {
   "cell_type": "code",
   "execution_count": null,
   "metadata": {},
   "outputs": [],
   "source": []
  }
 ],
 "metadata": {
  "kernelspec": {
   "display_name": ".virtualenvs",
   "language": "python",
   "name": "python3"
  },
  "language_info": {
   "codemirror_mode": {
    "name": "ipython",
    "version": 3
   },
   "file_extension": ".py",
   "mimetype": "text/x-python",
   "name": "python",
   "nbconvert_exporter": "python",
   "pygments_lexer": "ipython3",
   "version": "3.10.13"
  }
 },
 "nbformat": 4,
 "nbformat_minor": 2
}
