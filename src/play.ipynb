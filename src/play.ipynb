{
 "cells": [
  {
   "cell_type": "code",
   "execution_count": 1,
   "metadata": {},
   "outputs": [],
   "source": [
    "from helpers import *"
   ]
  },
  {
   "cell_type": "code",
   "execution_count": 2,
   "metadata": {},
   "outputs": [],
   "source": [
    "network_file_path=\"/Users/armaan/Desktop/Fall-2023 Classes/Sable-Artificial-Intelligence/NN/grades/NNGRADES.txt\"\n",
    "train_file_path=\"/Users/armaan/Desktop/Fall-2023 Classes/Sable-Artificial-Intelligence/NN/grades/GRADES_train.txt\"\n",
    "test_file_path=\"/Users/armaan/Desktop/Fall-2023 Classes/Sable-Artificial-Intelligence/NN/grades/GRADES_test.txt\""
   ]
  },
  {
   "cell_type": "code",
   "execution_count": 3,
   "metadata": {},
   "outputs": [],
   "source": [
    "network = load_network_from_file(network_file_path)"
   ]
  },
  {
   "cell_type": "code",
   "execution_count": 4,
   "metadata": {},
   "outputs": [
    {
     "data": {
      "text/plain": [
       "{'hidden_layer': [{'weights': [0.058, 0.551, 0.609, 0.849, 0.624, 0.122]},\n",
       "  {'weights': [0.674, 0.286, 0.924, 0.389, 0.036, 0.562]},\n",
       "  {'weights': [0.98, 0.994, 0.588, 0.444, 0.902, 0.35]},\n",
       "  {'weights': [0.886, 0.923, 0.268, 0.991, 0.616, 0.114]},\n",
       "  {'weights': [0.686, 0.802, 0.054, 0.852, 0.039, 0.844]},\n",
       "  {'weights': [0.507, 0.369, 0.063, 0.294, 0.258, 0.694]},\n",
       "  {'weights': [0.17, 0.331, 0.782, 0.128, 0.368, 0.144]},\n",
       "  {'weights': [0.469, 0.083, 0.904, 0.464, 0.885, 0.345]},\n",
       "  {'weights': [0.801, 0.88, 0.804, 0.72, 0.792, 0.203]},\n",
       "  {'weights': [0.189, 0.69, 0.679, 0.512, 0.661, 0.017]}],\n",
       " 'output_layer': [{'weights': [0.792,\n",
       "    0.459,\n",
       "    0.339,\n",
       "    0.742,\n",
       "    0.731,\n",
       "    0.316,\n",
       "    0.519,\n",
       "    0.255,\n",
       "    0.83,\n",
       "    0.352,\n",
       "    0.224]},\n",
       "  {'weights': [0.625,\n",
       "    0.972,\n",
       "    0.873,\n",
       "    0.163,\n",
       "    0.157,\n",
       "    0.179,\n",
       "    0.757,\n",
       "    0.937,\n",
       "    0.845,\n",
       "    0.526,\n",
       "    0.361]},\n",
       "  {'weights': [0.022,\n",
       "    0.561,\n",
       "    0.895,\n",
       "    0.959,\n",
       "    0.2,\n",
       "    0.039,\n",
       "    0.986,\n",
       "    0.71,\n",
       "    0.964,\n",
       "    0.157,\n",
       "    0.371]},\n",
       "  {'weights': [0.86,\n",
       "    0.09,\n",
       "    0.274,\n",
       "    0.584,\n",
       "    0.06,\n",
       "    0.155,\n",
       "    0.108,\n",
       "    0.814,\n",
       "    0.533,\n",
       "    0.369,\n",
       "    0.52]}]}"
      ]
     },
     "execution_count": 4,
     "metadata": {},
     "output_type": "execute_result"
    }
   ],
   "source": [
    "network"
   ]
  },
  {
   "cell_type": "code",
   "execution_count": 8,
   "metadata": {},
   "outputs": [],
   "source": [
    "num_samples, num_features, n_outputs, train_data = read_configuration_and_data_file(\n",
    "    train_file_path\n",
    ")\n",
    "_, _, _, test_data = read_configuration_and_data_file(test_file_path)"
   ]
  },
  {
   "cell_type": "code",
   "execution_count": 9,
   "metadata": {},
   "outputs": [
    {
     "ename": "IndexError",
     "evalue": "list index out of range",
     "output_type": "error",
     "traceback": [
      "\u001b[0;31m---------------------------------------------------------------------------\u001b[0m",
      "\u001b[0;31mIndexError\u001b[0m                                Traceback (most recent call last)",
      "\u001b[1;32m/Users/armaan/Desktop/Fall-2023 Classes/Sable-Artificial-Intelligence/NN/src/play.ipynb Cell 5\u001b[0m line \u001b[0;36m3\n\u001b[1;32m      <a href='vscode-notebook-cell:/Users/armaan/Desktop/Fall-2023%20Classes/Sable-Artificial-Intelligence/NN/src/play.ipynb#W3sZmlsZQ%3D%3D?line=0'>1</a>\u001b[0m \u001b[39mfrom\u001b[39;00m \u001b[39msable_nn\u001b[39;00m \u001b[39mimport\u001b[39;00m train_network, predict\n\u001b[0;32m----> <a href='vscode-notebook-cell:/Users/armaan/Desktop/Fall-2023%20Classes/Sable-Artificial-Intelligence/NN/src/play.ipynb#W3sZmlsZQ%3D%3D?line=2'>3</a>\u001b[0m trained_network \u001b[39m=\u001b[39m train_network(network, train_data, \u001b[39m0.1\u001b[39;49m, \u001b[39m100\u001b[39;49m, n_outputs)\n",
      "File \u001b[0;32m~/Desktop/Fall-2023 Classes/Sable-Artificial-Intelligence/NN/src/sable_nn.py:85\u001b[0m, in \u001b[0;36mtrain_network\u001b[0;34m(network, train, l_rate, n_epoch, n_outputs)\u001b[0m\n\u001b[1;32m     81\u001b[0m         expected \u001b[39m=\u001b[39m row[\n\u001b[1;32m     82\u001b[0m             \u001b[39m-\u001b[39mn_outputs:\n\u001b[1;32m     83\u001b[0m         ]  \u001b[39m# The expected output is simply the last element of the row\u001b[39;00m\n\u001b[1;32m     84\u001b[0m         backward_propagate_error(network, expected)\n\u001b[0;32m---> 85\u001b[0m         update_weights(network, row, l_rate)\n\u001b[1;32m     86\u001b[0m \u001b[39mreturn\u001b[39;00m network\n",
      "File \u001b[0;32m~/Desktop/Fall-2023 Classes/Sable-Artificial-Intelligence/NN/src/sable_nn.py:66\u001b[0m, in \u001b[0;36mupdate_weights\u001b[0;34m(network, row, l_rate)\u001b[0m\n\u001b[1;32m     64\u001b[0m \u001b[39mfor\u001b[39;00m i, neuron \u001b[39min\u001b[39;00m \u001b[39menumerate\u001b[39m(network[\u001b[39m\"\u001b[39m\u001b[39mhidden_layer\u001b[39m\u001b[39m\"\u001b[39m]):\n\u001b[1;32m     65\u001b[0m     \u001b[39mfor\u001b[39;00m j \u001b[39min\u001b[39;00m \u001b[39mrange\u001b[39m(\u001b[39mlen\u001b[39m(inputs)):\n\u001b[0;32m---> 66\u001b[0m         neuron[\u001b[39m\"\u001b[39m\u001b[39mweights\u001b[39m\u001b[39m\"\u001b[39m][j] \u001b[39m+\u001b[39m\u001b[39m=\u001b[39m l_rate \u001b[39m*\u001b[39m neuron[\u001b[39m\"\u001b[39m\u001b[39mdelta\u001b[39m\u001b[39m\"\u001b[39m] \u001b[39m*\u001b[39m inputs[j]\n\u001b[1;32m     68\u001b[0m \u001b[39m# Update weights for the output layer\u001b[39;00m\n\u001b[1;32m     69\u001b[0m inputs \u001b[39m=\u001b[39m [\u001b[39m-\u001b[39m\u001b[39m1\u001b[39m] \u001b[39m+\u001b[39m [\n\u001b[1;32m     70\u001b[0m     neuron[\u001b[39m\"\u001b[39m\u001b[39moutput\u001b[39m\u001b[39m\"\u001b[39m] \u001b[39mfor\u001b[39;00m neuron \u001b[39min\u001b[39;00m network[\u001b[39m\"\u001b[39m\u001b[39mhidden_layer\u001b[39m\u001b[39m\"\u001b[39m]\n\u001b[1;32m     71\u001b[0m ]  \u001b[39m# Add the fixed input for bias\u001b[39;00m\n",
      "\u001b[0;31mIndexError\u001b[0m: list index out of range"
     ]
    }
   ],
   "source": [
    "from sable_nn import train_network, predict\n",
    "\n",
    "trained_network = train_network(network, train_data, 0.1, 100, n_outputs)"
   ]
  },
  {
   "cell_type": "code",
   "execution_count": 18,
   "metadata": {},
   "outputs": [],
   "source": [
    "# Example usage:\n",
    "train_predictions = [predict(trained_network, row, n_outputs) for row in train_data]\n",
    "test_predictions = [predict(trained_network, row, n_outputs) for row in test_data]"
   ]
  },
  {
   "cell_type": "code",
   "execution_count": 21,
   "metadata": {},
   "outputs": [],
   "source": [
    "train_evals = compute_binary_classification_metrics(\n",
    "    [x[-1] for x in train_data], train_predictions\n",
    ")\n",
    "test_evals = compute_binary_classification_metrics(\n",
    "    [x[-1] for x in test_data], test_predictions\n",
    ")"
   ]
  },
  {
   "cell_type": "code",
   "execution_count": 22,
   "metadata": {},
   "outputs": [
    {
     "name": "stdout",
     "output_type": "stream",
     "text": [
      "Train set evaluation:\n",
      "Accuracy: 0.9533333333333334\n",
      "Precision: 0.9306930693069307\n",
      "Recall: 1.0\n",
      "F1: 0.9641025641025642\n"
     ]
    }
   ],
   "source": [
    "print(\"Train set evaluation:\")\n",
    "print(f\"Accuracy: {train_evals['accuracy']}\")\n",
    "print(f\"Precision: {train_evals['precision']}\")\n",
    "print(f\"Recall: {train_evals['recall']}\")\n",
    "print(f\"F1: {train_evals['F1']}\")"
   ]
  },
  {
   "cell_type": "code",
   "execution_count": 23,
   "metadata": {},
   "outputs": [
    {
     "name": "stdout",
     "output_type": "stream",
     "text": [
      "Test set evaluation metrics:\n",
      "Accuracy: 0.9628252788104089\n",
      "Precision: 0.9542857142857143\n",
      "Recall: 0.9881656804733728\n",
      "F1: 0.9709302325581396\n"
     ]
    }
   ],
   "source": [
    "print(\"Test set evaluation metrics:\")\n",
    "print(f\"Accuracy: {test_evals['accuracy']}\")\n",
    "print(f\"Precision: {test_evals['precision']}\")\n",
    "print(f\"Recall: {test_evals['recall']}\")\n",
    "print(f\"F1: {test_evals['F1']}\")"
   ]
  }
 ],
 "metadata": {
  "kernelspec": {
   "display_name": ".virtualenvs",
   "language": "python",
   "name": "python3"
  },
  "language_info": {
   "codemirror_mode": {
    "name": "ipython",
    "version": 3
   },
   "file_extension": ".py",
   "mimetype": "text/x-python",
   "name": "python",
   "nbconvert_exporter": "python",
   "pygments_lexer": "ipython3",
   "version": "3.10.13"
  }
 },
 "nbformat": 4,
 "nbformat_minor": 2
}
